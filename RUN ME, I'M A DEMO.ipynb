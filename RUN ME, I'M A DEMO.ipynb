{
 "cells": [
  {
   "cell_type": "code",
   "execution_count": null,
   "metadata": {},
   "outputs": [],
   "source": [
    "import numpy as np\n",
    "import matplotlib.pyplot as plt\n",
    "\n",
    "fs = 1000\n",
    "\n",
    "noise_t = np.random.normal(0,1,10000)"
   ]
  },
  {
   "cell_type": "code",
   "execution_count": null,
   "metadata": {},
   "outputs": [],
   "source": [
    "noise_f = np.fft.ifft(noise_t)\n",
    "\n",
    "f_axis = np.linspace(0,fs,len(noise_t))\n",
    "\n",
    "fig1 = plt.figure(figsize=(16,6))\n",
    "plt.title(\"Frequency Spectrum Original Noise\")\n",
    "plt.xlabel(\"Frecuencies\")\n",
    "plt.ylabel(\"Amplitude\")\n",
    "plt.grid(True)\n",
    "plt.xlim(0,fs/2)\n",
    "plt.plot(f_axis,abs(noise_f))\n",
    "plt.show()\n",
    "#fig1.savefig(\"Frequency spectrum original noise.svg\")"
   ]
  },
  {
   "cell_type": "code",
   "execution_count": null,
   "metadata": {
    "collapsed": true
   },
   "outputs": [],
   "source": [
    "class IIR_filter:\n",
    "    def __init__(self):\n",
    "        \n",
    "        self.orden = 2\n",
    "        self.control = 0\n",
    "        self.buffer = list()\n",
    "     \n",
    "    def iir_filter(self,value,mode,f1,*f2):\n",
    "        \n",
    "        import numpy as np\n",
    "        import scipy.signal as signal\n",
    "        \n",
    "        if self.control == 0: \n",
    "            self.control = 1\n",
    "            self.sos = signal.butter(1,[f1,*f2],mode,output=\"SOS\")\n",
    "            self.b = self.sos[0][:3]\n",
    "            self.a = self.sos[0][3:]\n",
    "            for i in range(self.orden):\n",
    "                self.buffer.append(np.zeros(len(self.b)))\n",
    "\n",
    "        self.acc1 = value\n",
    "        \n",
    "        for k in range(self.orden):\n",
    "            for i in range(1,len(self.buffer[k])):\n",
    "                self.acc1 = self.acc1 - (self.a[i] * self.buffer[k][i])\n",
    "       \n",
    "            self.acc2 = self.acc1 * self.b[0]\n",
    "        \n",
    "            for j in range(1,len(self.buffer[k])):\n",
    "                self.acc2 = self.acc2 + (self.b[j] * self.buffer[k][j])\n",
    "\n",
    "            self.buffer[k][1:] = self.buffer[k][:-1]\n",
    "            self.buffer[k][1] = self.acc1\n",
    "            self.acc1 = self.acc2\n",
    "       \n",
    "        return self.acc2"
   ]
  },
  {
   "cell_type": "code",
   "execution_count": null,
   "metadata": {
    "collapsed": true
   },
   "outputs": [],
   "source": [
    "# Corner frequencies\n",
    "f1=2*(40/fs)\n",
    "f2=2*(50/fs)"
   ]
  },
  {
   "cell_type": "code",
   "execution_count": null,
   "metadata": {},
   "outputs": [],
   "source": [
    "prube = IIR_filter()\n",
    "prube.control = 0\n",
    "\n",
    "##### CHANGE MEEEEE!!!!!\n",
    "prube.orden = 20\n",
    "\n",
    "result = list()\n",
    "\n",
    "for i in range(len(noise_t)): # This for loop simulates data in in a real time system\n",
    "    result.append(prube.iir_filter(noise_t[i],\"Lowpass\",f2))"
   ]
  },
  {
   "cell_type": "code",
   "execution_count": null,
   "metadata": {},
   "outputs": [],
   "source": [
    "result_f = np.fft.ifft(result)\n",
    "\n",
    "fig2 = plt.figure(figsize=(16,6))\n",
    "plt.title(\"Lowpass, order = 20\")\n",
    "plt.xlabel(\"Frecuencies\")\n",
    "plt.ylabel(\"Amplitude\")\n",
    "plt.grid(True)\n",
    "plt.xlim(0,fs/2)\n",
    "plt.plot(f_axis,abs(result_f))\n",
    "plt.show()\n",
    "fig2.savefig(\"Lowpass, order = 20.svg\")"
   ]
  }
 ],
 "metadata": {
  "kernelspec": {
   "display_name": "Python 3",
   "language": "python",
   "name": "python3"
  },
  "language_info": {
   "codemirror_mode": {
    "name": "ipython",
    "version": 3
   },
   "file_extension": ".py",
   "mimetype": "text/x-python",
   "name": "python",
   "nbconvert_exporter": "python",
   "pygments_lexer": "ipython3",
   "version": "3.6.3"
  }
 },
 "nbformat": 4,
 "nbformat_minor": 2
}
